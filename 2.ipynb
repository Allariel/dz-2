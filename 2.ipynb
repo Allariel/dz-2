{
 "cells": [
  {
   "cell_type": "code",
   "execution_count": 11,
   "id": "d03df3dc",
   "metadata": {},
   "outputs": [
    {
     "name": "stdout",
     "output_type": "stream",
     "text": [
      "Write number0.67\n",
      "13\n"
     ]
    }
   ],
   "source": [
    "#Напишите программу, которая принимает на вход вещественное число и показывает сумму его цифр.\n",
    "\n",
    "def Sum(x):\n",
    " sum = 0\n",
    " for ch in ['.',',','-']:\n",
    "   if ch in x:\n",
    "     x=x.replace(ch,\"\")\n",
    " for n in x:\n",
    "    sum += int(n)\n",
    " print(sum)\n",
    "\n",
    "\n",
    "x = input(\"Write number\")\n",
    "Sum(x)"
   ]
  },
  {
   "cell_type": "code",
   "execution_count": 21,
   "id": "0ff7204d",
   "metadata": {},
   "outputs": [
    {
     "name": "stdout",
     "output_type": "stream",
     "text": [
      "Write number6\n",
      "1\n",
      "2\n",
      "6\n",
      "24\n",
      "120\n",
      "720\n"
     ]
    }
   ],
   "source": [
    "#Напишите программу, которая принимает на вход число N и выдает набор произведений чисел от 1 до N.\n",
    "\n",
    "def Mult(mult,n):\n",
    "  mult*=n\n",
    "  return mult\n",
    "\n",
    "\n",
    "x = input(\"Write number\")\n",
    "mult = 1\n",
    "for i in range(1,int(x)+1):\n",
    "  mult = Mult(mult,i)\n",
    "  print(mult)"
   ]
  },
  {
   "cell_type": "code",
   "execution_count": 25,
   "id": "6cf5e497",
   "metadata": {},
   "outputs": [
    {
     "name": "stdout",
     "output_type": "stream",
     "text": [
      "Write number4\n",
      "[2.0, 2.25, 2.37, 2.44]\n",
      "9.06\n"
     ]
    }
   ],
   "source": [
    "#Задайте список из n чисел последовательности $(1+\\frac 1 n)^n$ и выведите на экран их сумму.\n",
    "\n",
    "\n",
    "\n",
    "def sequence(n):\n",
    "    return[round((1 + 1 / x)**x, 2) for x in range (1, n + 1)]   \n",
    "\n",
    "\n",
    "\n",
    "n = int(input('Write number')) \n",
    "print(sequence(n))\n",
    "print(sum(sequence(n)))"
   ]
  },
  {
   "cell_type": "code",
   "execution_count": 51,
   "id": "1e84055b",
   "metadata": {},
   "outputs": [
    {
     "name": "stdout",
     "output_type": "stream",
     "text": [
      "Write number6\n",
      "[-6, -5, -4, -3, -2, -1, 0, 1, 2, 3, 4, 5, 6]\n",
      "Позиции(с 0 идет счет)\n",
      "[5, 4, 3, 1]\n",
      "5:-1\n",
      "4:-2\n",
      "3:-3\n",
      "1:-5\n",
      "Result:30\n",
      "[0, -2, -6, -5, -1, 4, 2, 1, 5, -3, 3, -4, 6]\n",
      "Позиции(с 0 идет счет)\n",
      "[5, 4, 3, 1]\n",
      "5:4\n",
      "4:-1\n",
      "3:-5\n",
      "1:-2\n",
      "Result:-40\n"
     ]
    }
   ],
   "source": [
    "#Задайте список из N элементов, заполненных числами из промежутка [-N, N].\n",
    "from random import randint\n",
    "\n",
    "\n",
    "def Mult(lines,list_of_numbers):\n",
    "    mult = 1\n",
    "    for z in lines:\n",
    "        mult = mult*list_of_numbers[z]\n",
    "        print(str(z)+\":\"+str(list_of_numbers[z]))\n",
    "    print(\"Result:\" + str(mult))\n",
    "    \n",
    "\n",
    "    \n",
    "\n",
    "with open(\"file.txt\") as file:\n",
    "    lines = [line.rstrip() for line in file]\n",
    "    \n",
    "lines = [int(item) for item in lines]\n",
    "x = int(input(\"Write number\"))\n",
    "list_of_numbers = list(n for n in range (-x, x+1))\n",
    "\n",
    "print(list_of_numbers)\n",
    "print(\"Позиции(с 0 идет счет)\")\n",
    "print(lines)\n",
    "\n",
    "Mult(lines,list_of_numbers)\n",
    "\n",
    "#Реализуйте алгоритм перемешивания списка.\n",
    "def Randomize(list_of_numbers):\n",
    "    for x in range(0, len(list_of_numbers)-1):\n",
    "        ran = randint(0, len(list_of_numbers)-1)\n",
    "        temp = list_of_numbers[x]\n",
    "        list_of_numbers[x] = list_of_numbers[ran]\n",
    "        list_of_numbers[ran] = temp\n",
    "    return list_of_numbers\n",
    "        \n",
    "list_of_numbers = Randomize(list_of_numbers)        \n",
    "print(list_of_numbers)\n",
    "print(\"Позиции(с 0 идет счет)\")\n",
    "print(lines)\n",
    "\n",
    "Mult(lines,list_of_numbers)"
   ]
  },
  {
   "cell_type": "code",
   "execution_count": null,
   "id": "6946eb69",
   "metadata": {},
   "outputs": [],
   "source": []
  }
 ],
 "metadata": {
  "kernelspec": {
   "display_name": "Python 3 (ipykernel)",
   "language": "python",
   "name": "python3"
  },
  "language_info": {
   "codemirror_mode": {
    "name": "ipython",
    "version": 3
   },
   "file_extension": ".py",
   "mimetype": "text/x-python",
   "name": "python",
   "nbconvert_exporter": "python",
   "pygments_lexer": "ipython3",
   "version": "3.9.13"
  }
 },
 "nbformat": 4,
 "nbformat_minor": 5
}
